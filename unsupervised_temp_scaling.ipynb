{
 "cells": [
  {
   "cell_type": "code",
   "execution_count": 1,
   "metadata": {},
   "outputs": [],
   "source": [
    "%load_ext autoreload\n",
    "%autoreload 2"
   ]
  },
  {
   "cell_type": "code",
   "execution_count": 2,
   "metadata": {},
   "outputs": [
    {
     "name": "stderr",
     "output_type": "stream",
     "text": [
      "/home/ubuntu/anaconda3/envs/content_understanding/lib/python3.8/site-packages/tqdm/auto.py:22: TqdmWarning: IProgress not found. Please update jupyter and ipywidgets. See https://ipywidgets.readthedocs.io/en/stable/user_install.html\n",
      "  from .autonotebook import tqdm as notebook_tqdm\n"
     ]
    }
   ],
   "source": [
    "import open_clip\n",
    "from torchvision import datasets, transforms\n",
    "import torch\n",
    "from PIL import Image\n",
    "import open_clip\n",
    "from tqdm import tqdm\n",
    "from torch.utils.data import DataLoader\n",
    "import numpy as np\n",
    "from sklearn import calibration\n",
    "import matplotlib.pyplot as plt\n",
    "import matplotlib.patches as mpatches\n",
    "import torch.nn as nn\n",
    "import torch.optim as optim\n",
    "from sklearn.tree import DecisionTreeRegressor as DT\n",
    "from sklearn.isotonic import IsotonicRegression as IR\n",
    "from scipy.stats import norm\n",
    "from tqdm import tqdm\n",
    "import pandas as pd"
   ]
  },
  {
   "cell_type": "code",
   "execution_count": 5,
   "metadata": {},
   "outputs": [],
   "source": [
    "from util import get_preds, calc_bins, get_metrics, T_scaling, find_temp_scale, get_test_set, get_openai_prompts, get_val_set, find_temp_scale_with_q, get_text_probs, sample_quantile"
   ]
  },
  {
   "cell_type": "code",
   "execution_count": 3,
   "metadata": {},
   "outputs": [],
   "source": [
    "device = torch.device('cuda:4' if torch.cuda.is_available() else 'cpu')\n",
    "batch_size = 128"
   ]
  },
  {
   "cell_type": "code",
   "execution_count": 64,
   "metadata": {},
   "outputs": [],
   "source": [
    "model_name = 'ViT-B-16'#'ViT-B-32-quickgelu'\n",
    "dataset_name = 'CIFAR100'\n",
    "num_classes = 100\n",
    "\n",
    "model, _, preprocess = open_clip.create_model_and_transforms(model_name,\n",
    "    pretrained='laion400m_e31',\n",
    "    device=device)\n",
    "tokenizer = open_clip.get_tokenizer(model_name)"
   ]
  },
  {
   "cell_type": "code",
   "execution_count": 65,
   "metadata": {},
   "outputs": [
    {
     "name": "stdout",
     "output_type": "stream",
     "text": [
      "Files already downloaded and verified\n",
      "Files already downloaded and verified\n"
     ]
    }
   ],
   "source": [
    "cifar_test, _ = get_test_set(dataset_name, preprocess)\n",
    "classes, templates = get_openai_prompts(dataset_name)\n",
    "val_dset = get_val_set(dataset_name, classes, preprocess)"
   ]
  },
  {
   "cell_type": "code",
   "execution_count": 66,
   "metadata": {},
   "outputs": [],
   "source": [
    "text_template = templates[1]\n",
    "text_probs = get_text_probs(\n",
    "        model=model,\n",
    "        tokenizer=tokenizer,\n",
    "        dset=val_dset,\n",
    "        text_template=text_template,\n",
    "        batch_size=batch_size,\n",
    "        device=device\n",
    "    )"
   ]
  },
  {
   "cell_type": "code",
   "execution_count": 67,
   "metadata": {},
   "outputs": [
    {
     "name": "stdout",
     "output_type": "stream",
     "text": [
      "0.00984\n",
      "0.01651\n",
      "0.01839\n",
      "0.01715\n",
      "0.02884\n",
      "0.01207\n",
      "0.01138\n",
      "0.02626\n",
      "0.007423\n",
      "0.01724\n",
      "0.01912\n",
      "0.02338\n",
      "0.013466\n",
      "0.01685\n",
      "0.01122\n",
      "0.0197\n",
      "0.00999\n",
      "0.00981\n",
      "0.03102\n",
      "0.014984\n",
      "0.01761\n",
      "0.01268\n",
      "0.01358\n",
      "0.01718\n",
      "0.02376\n",
      "0.01206\n",
      "0.01604\n",
      "0.01279\n",
      "0.01489\n",
      "0.015144\n",
      "0.0279\n",
      "0.014595\n",
      "0.02986\n",
      "0.012825\n",
      "0.02206\n",
      "0.02576\n",
      "0.0231\n",
      "0.00901\n",
      "0.01929\n",
      "0.01047\n",
      "0.015175\n",
      "0.02188\n",
      "0.01075\n",
      "0.0202\n",
      "0.02473\n",
      "0.012436\n",
      "0.014946\n",
      "0.02292\n",
      "0.006454\n",
      "0.01226\n",
      "0.02892\n",
      "0.02234\n",
      "0.0236\n",
      "0.01191\n",
      "0.01344\n",
      "0.02545\n",
      "0.0107\n",
      "0.01523\n",
      "0.01292\n",
      "0.02264\n",
      "0.04407\n",
      "0.01787\n",
      "0.01987\n",
      "0.0158\n",
      "0.02559\n",
      "0.01886\n",
      "0.01694\n",
      "0.02893\n",
      "0.01297\n",
      "0.02304\n",
      "0.012146\n",
      "0.01363\n",
      "0.02815\n",
      "0.0232\n",
      "0.02649\n",
      "0.0187\n",
      "0.012634\n",
      "0.02397\n",
      "0.02757\n",
      "0.01412\n",
      "0.02176\n",
      "0.01668\n",
      "0.00887\n",
      "0.01052\n",
      "0.01348\n",
      "0.01063\n",
      "0.011635\n",
      "0.01683\n",
      "0.014984\n",
      "0.01534\n",
      "0.012024\n",
      "0.02261\n",
      "0.0209\n",
      "0.01215\n",
      "0.01205\n",
      "0.03247\n",
      "0.02922\n",
      "0.01663\n",
      "0.01883\n",
      "0.03302\n"
     ]
    },
    {
     "data": {
      "text/plain": [
       "tensor(1.7394, device='cuda:4', grad_fn=<NllLossBackward0>)"
      ]
     },
     "execution_count": 67,
     "metadata": {},
     "output_type": "execute_result"
    }
   ],
   "source": [
    "## Get threshold\n",
    "text_probs_numpy = text_probs.softmax(dim=-1).cpu().numpy()\n",
    "\n",
    "## Setup LBGFS\n",
    "temperature = nn.Parameter((torch.ones(1)).to(device))\n",
    "args = {'temperature': temperature}\n",
    "criterion = nn.CrossEntropyLoss()\n",
    "\n",
    "# Removing strong_wolfe line search results in jump after 50 epochs\n",
    "optimizer = optim.LBFGS([temperature], lr=0.001, max_iter=1000, line_search_fn='strong_wolfe')\n",
    "\n",
    "logits_list = []\n",
    "labels_list = []\n",
    "\n",
    "predicted_label = text_probs_numpy.argmax(axis=1)\n",
    "\n",
    "added = np.zeros(len(text_probs_numpy[0]))\n",
    "for k in range(len(text_probs_numpy[0])):\n",
    "    # set where predicted_label is not k\n",
    "    logits_u = text_probs_numpy[predicted_label != k,:]\n",
    "\n",
    "    mean_softmax_yk = logits_u[:,k].mean()\n",
    "    std_softmax_yk = logits_u[:,k].std()\n",
    "\n",
    "    thresh = mean_softmax_yk + std_softmax_yk\n",
    "    print(thresh)\n",
    "    for j in np.where(text_probs_numpy[:,k] >= thresh)[0]:\n",
    "        added[k] += 1\n",
    "        logits_list.append(text_probs[j].unsqueeze(0))\n",
    "        labels_list.append(k)\n",
    "\n",
    "logits_list = torch.cat(logits_list).to(device) # [len(dset), 100]\n",
    "labels_list = torch.FloatTensor(labels_list).to(device).long()\n",
    "\n",
    "temps = []\n",
    "losses = []\n",
    "def _eval():\n",
    "    loss = criterion(T_scaling(logits_list, args), labels_list)\n",
    "    loss.backward()\n",
    "    temps.append(temperature.item())\n",
    "    losses.append(loss)\n",
    "    return loss\n",
    "\n",
    "optimizer.step(_eval)"
   ]
  },
  {
   "cell_type": "code",
   "execution_count": 69,
   "metadata": {},
   "outputs": [
    {
     "data": {
      "text/plain": [
       "(array([9.083e+03, 2.300e+02, 8.900e+01, 6.600e+01, 4.000e+01, 3.100e+01,\n",
       "        3.200e+01, 1.100e+01, 2.400e+01, 1.600e+01, 1.300e+01, 7.000e+00,\n",
       "        1.100e+01, 1.000e+01, 1.000e+01, 5.000e+00, 9.000e+00, 8.000e+00,\n",
       "        7.000e+00, 2.000e+00, 6.000e+00, 8.000e+00, 9.000e+00, 6.000e+00,\n",
       "        8.000e+00, 2.000e+00, 4.000e+00, 9.000e+00, 5.000e+00, 1.000e+00,\n",
       "        5.000e+00, 1.000e+00, 0.000e+00, 2.000e+00, 3.000e+00, 5.000e+00,\n",
       "        2.000e+00, 2.000e+00, 4.000e+00, 1.000e+00, 0.000e+00, 2.000e+00,\n",
       "        0.000e+00, 2.000e+00, 1.000e+00, 1.000e+00, 1.000e+00, 3.000e+00,\n",
       "        0.000e+00, 2.000e+00, 0.000e+00, 3.000e+00, 1.000e+00, 1.000e+00,\n",
       "        3.000e+00, 2.000e+00, 0.000e+00, 0.000e+00, 0.000e+00, 1.000e+00,\n",
       "        0.000e+00, 1.000e+00, 0.000e+00, 0.000e+00, 2.000e+00, 2.000e+00,\n",
       "        1.000e+00, 0.000e+00, 0.000e+00, 1.000e+00, 2.000e+00, 1.000e+00,\n",
       "        2.000e+00, 1.000e+00, 0.000e+00, 0.000e+00, 0.000e+00, 0.000e+00,\n",
       "        0.000e+00, 0.000e+00, 3.000e+00, 0.000e+00, 2.000e+00, 0.000e+00,\n",
       "        2.000e+00, 0.000e+00, 3.000e+00, 1.000e+00, 3.000e+00, 0.000e+00,\n",
       "        0.000e+00, 2.000e+00, 0.000e+00, 1.000e+00, 0.000e+00, 1.000e+00,\n",
       "        1.000e+00, 0.000e+00, 0.000e+00, 2.000e+00, 1.000e+00, 0.000e+00,\n",
       "        4.000e+00, 0.000e+00, 1.000e+00, 0.000e+00, 0.000e+00, 0.000e+00,\n",
       "        1.000e+00, 0.000e+00, 1.000e+00, 0.000e+00, 0.000e+00, 1.000e+00,\n",
       "        0.000e+00, 0.000e+00, 0.000e+00, 1.000e+00, 0.000e+00, 0.000e+00,\n",
       "        0.000e+00, 0.000e+00, 0.000e+00, 0.000e+00, 1.000e+00, 0.000e+00,\n",
       "        1.000e+00, 0.000e+00, 0.000e+00, 0.000e+00, 0.000e+00, 0.000e+00,\n",
       "        1.000e+00, 0.000e+00, 0.000e+00, 0.000e+00, 0.000e+00, 1.000e+00,\n",
       "        2.000e+00, 2.000e+00, 0.000e+00, 0.000e+00, 0.000e+00, 0.000e+00,\n",
       "        0.000e+00, 0.000e+00, 2.000e+00, 0.000e+00, 0.000e+00, 1.000e+00,\n",
       "        0.000e+00, 0.000e+00, 0.000e+00, 0.000e+00, 0.000e+00, 0.000e+00,\n",
       "        1.000e+00, 0.000e+00, 0.000e+00, 0.000e+00, 2.000e+00, 0.000e+00,\n",
       "        0.000e+00, 3.000e+00, 0.000e+00, 0.000e+00, 1.000e+00, 0.000e+00,\n",
       "        0.000e+00, 0.000e+00, 0.000e+00, 0.000e+00, 0.000e+00, 0.000e+00,\n",
       "        1.000e+00, 0.000e+00, 0.000e+00, 0.000e+00, 0.000e+00, 0.000e+00,\n",
       "        1.000e+00, 0.000e+00, 0.000e+00, 0.000e+00, 0.000e+00, 0.000e+00,\n",
       "        0.000e+00, 0.000e+00, 0.000e+00, 0.000e+00, 0.000e+00, 0.000e+00,\n",
       "        1.000e+00, 1.000e+00, 0.000e+00, 0.000e+00, 1.000e+00, 1.000e+00,\n",
       "        0.000e+00, 1.000e+00, 1.000e+00, 0.000e+00, 0.000e+00, 1.000e+00,\n",
       "        1.000e+00, 0.000e+00, 0.000e+00, 0.000e+00, 1.000e+00, 0.000e+00,\n",
       "        0.000e+00, 0.000e+00, 0.000e+00, 0.000e+00, 0.000e+00, 1.000e+00,\n",
       "        2.000e+00, 0.000e+00, 0.000e+00, 0.000e+00, 0.000e+00, 1.000e+00,\n",
       "        0.000e+00, 0.000e+00, 0.000e+00, 0.000e+00, 0.000e+00, 0.000e+00,\n",
       "        0.000e+00, 0.000e+00, 0.000e+00, 0.000e+00, 0.000e+00, 0.000e+00,\n",
       "        1.000e+00, 0.000e+00, 0.000e+00, 0.000e+00, 0.000e+00, 0.000e+00,\n",
       "        0.000e+00, 0.000e+00, 0.000e+00, 0.000e+00, 0.000e+00, 0.000e+00,\n",
       "        0.000e+00, 0.000e+00, 0.000e+00, 0.000e+00, 1.000e+00, 0.000e+00,\n",
       "        0.000e+00, 0.000e+00, 0.000e+00, 0.000e+00, 0.000e+00, 0.000e+00,\n",
       "        0.000e+00, 0.000e+00, 0.000e+00, 0.000e+00, 0.000e+00, 0.000e+00,\n",
       "        0.000e+00, 0.000e+00, 0.000e+00, 0.000e+00, 0.000e+00, 0.000e+00,\n",
       "        2.000e+00, 0.000e+00, 0.000e+00, 0.000e+00, 1.000e+00, 0.000e+00,\n",
       "        0.000e+00, 0.000e+00, 0.000e+00, 0.000e+00, 0.000e+00, 0.000e+00,\n",
       "        0.000e+00, 0.000e+00, 0.000e+00, 0.000e+00, 0.000e+00, 0.000e+00,\n",
       "        0.000e+00, 0.000e+00, 0.000e+00, 0.000e+00, 0.000e+00, 0.000e+00,\n",
       "        0.000e+00, 0.000e+00, 0.000e+00, 0.000e+00, 2.000e+00, 0.000e+00,\n",
       "        0.000e+00, 0.000e+00, 0.000e+00, 0.000e+00, 0.000e+00, 0.000e+00,\n",
       "        0.000e+00, 0.000e+00, 1.000e+00, 0.000e+00, 0.000e+00, 0.000e+00,\n",
       "        0.000e+00, 0.000e+00, 0.000e+00, 0.000e+00, 0.000e+00, 1.000e+00,\n",
       "        0.000e+00, 0.000e+00, 0.000e+00, 0.000e+00, 0.000e+00, 0.000e+00,\n",
       "        0.000e+00, 0.000e+00, 0.000e+00, 0.000e+00, 0.000e+00, 0.000e+00,\n",
       "        0.000e+00, 0.000e+00, 0.000e+00, 0.000e+00, 0.000e+00, 0.000e+00,\n",
       "        0.000e+00, 0.000e+00, 0.000e+00, 0.000e+00, 0.000e+00, 0.000e+00,\n",
       "        0.000e+00, 0.000e+00, 0.000e+00, 0.000e+00, 0.000e+00, 0.000e+00,\n",
       "        0.000e+00, 0.000e+00, 0.000e+00, 0.000e+00, 0.000e+00, 0.000e+00,\n",
       "        0.000e+00, 0.000e+00, 0.000e+00, 0.000e+00, 0.000e+00, 1.000e+00,\n",
       "        0.000e+00, 0.000e+00, 0.000e+00, 0.000e+00, 0.000e+00, 0.000e+00,\n",
       "        0.000e+00, 0.000e+00, 0.000e+00, 0.000e+00, 0.000e+00, 0.000e+00,\n",
       "        0.000e+00, 0.000e+00, 0.000e+00, 0.000e+00, 0.000e+00, 0.000e+00,\n",
       "        0.000e+00, 0.000e+00, 0.000e+00, 0.000e+00, 0.000e+00, 0.000e+00,\n",
       "        2.000e+00, 0.000e+00, 0.000e+00, 0.000e+00, 0.000e+00, 0.000e+00,\n",
       "        0.000e+00, 0.000e+00, 0.000e+00, 0.000e+00, 0.000e+00, 0.000e+00,\n",
       "        0.000e+00, 0.000e+00, 0.000e+00, 0.000e+00, 1.000e+00, 0.000e+00,\n",
       "        0.000e+00, 0.000e+00, 0.000e+00, 0.000e+00, 0.000e+00, 0.000e+00,\n",
       "        0.000e+00, 0.000e+00, 0.000e+00, 0.000e+00, 0.000e+00, 0.000e+00,\n",
       "        0.000e+00, 0.000e+00, 0.000e+00, 0.000e+00, 0.000e+00, 0.000e+00,\n",
       "        0.000e+00, 0.000e+00, 0.000e+00, 0.000e+00, 0.000e+00, 0.000e+00,\n",
       "        0.000e+00, 0.000e+00, 0.000e+00, 0.000e+00, 0.000e+00, 0.000e+00,\n",
       "        0.000e+00, 0.000e+00, 0.000e+00, 0.000e+00, 0.000e+00, 0.000e+00,\n",
       "        1.000e+00, 0.000e+00, 0.000e+00, 0.000e+00, 0.000e+00, 0.000e+00,\n",
       "        0.000e+00, 0.000e+00, 0.000e+00, 0.000e+00, 0.000e+00, 0.000e+00,\n",
       "        0.000e+00, 0.000e+00, 0.000e+00, 0.000e+00, 0.000e+00, 0.000e+00,\n",
       "        0.000e+00, 0.000e+00, 0.000e+00, 0.000e+00, 0.000e+00, 0.000e+00,\n",
       "        0.000e+00, 0.000e+00, 0.000e+00, 0.000e+00, 0.000e+00, 0.000e+00,\n",
       "        0.000e+00, 0.000e+00, 0.000e+00, 0.000e+00, 0.000e+00, 0.000e+00,\n",
       "        0.000e+00, 0.000e+00, 0.000e+00, 0.000e+00, 0.000e+00, 0.000e+00,\n",
       "        0.000e+00, 0.000e+00, 0.000e+00, 0.000e+00, 0.000e+00, 0.000e+00,\n",
       "        0.000e+00, 0.000e+00, 0.000e+00, 0.000e+00, 0.000e+00, 0.000e+00,\n",
       "        0.000e+00, 0.000e+00, 0.000e+00, 0.000e+00, 0.000e+00, 0.000e+00,\n",
       "        0.000e+00, 1.000e+00]),\n",
       " array([0.       , 0.0008545, 0.001709 , 0.002563 , 0.003418 , 0.004272 ,\n",
       "        0.005127 , 0.00598  , 0.006836 , 0.00769  , 0.008545 , 0.0094   ,\n",
       "        0.010254 , 0.01111  , 0.01196  , 0.01282  , 0.01367  , 0.01453  ,\n",
       "        0.01538  , 0.01624  , 0.01709  , 0.01794  , 0.0188   , 0.01965  ,\n",
       "        0.02051  , 0.02136  , 0.02222  , 0.02307  , 0.02393  , 0.02478  ,\n",
       "        0.02563  , 0.02649  , 0.02734  , 0.0282   , 0.02905  , 0.0299   ,\n",
       "        0.03076  , 0.03162  , 0.03247  , 0.03333  , 0.03418  , 0.03503  ,\n",
       "        0.0359   , 0.03674  , 0.0376   , 0.03845  , 0.0393   , 0.04016  ,\n",
       "        0.04102  , 0.04187  , 0.04272  , 0.04358  , 0.04443  , 0.0453   ,\n",
       "        0.04614  , 0.047    , 0.04785  , 0.0487   , 0.04956  , 0.0504   ,\n",
       "        0.05127  , 0.05212  , 0.05298  , 0.05383  , 0.0547   , 0.05554  ,\n",
       "        0.0564   , 0.05725  , 0.0581   , 0.05896  , 0.0598   , 0.06067  ,\n",
       "        0.06152  , 0.06238  , 0.06323  , 0.0641   , 0.06494  , 0.0658   ,\n",
       "        0.06665  , 0.0675   , 0.06836  , 0.0692   , 0.07007  , 0.0709   ,\n",
       "        0.0718   , 0.07263  , 0.0735   , 0.07434  , 0.0752   , 0.07605  ,\n",
       "        0.0769   , 0.07776  , 0.0786   , 0.07947  , 0.0803   , 0.0812   ,\n",
       "        0.08203  , 0.0829   , 0.08374  , 0.0846   , 0.08545  , 0.0863   ,\n",
       "        0.08716  , 0.088    , 0.08887  , 0.0897   , 0.0906   , 0.09143  ,\n",
       "        0.0923   , 0.09314  , 0.094    , 0.09485  , 0.0957   , 0.09656  ,\n",
       "        0.0974   , 0.09827  , 0.0991   , 0.1      , 0.1008   , 0.1017   ,\n",
       "        0.10254  , 0.1034   , 0.10425  , 0.1051   , 0.10596  , 0.1068   ,\n",
       "        0.10767  , 0.1085   , 0.1094   , 0.1102   , 0.1111   , 0.11194  ,\n",
       "        0.1128   , 0.11365  , 0.1145   , 0.11536  , 0.1162   , 0.11707  ,\n",
       "        0.1179   , 0.1188   , 0.1196   , 0.1205   , 0.12134  , 0.1222   ,\n",
       "        0.12305  , 0.1239   , 0.12476  , 0.1256   , 0.1265   , 0.1273   ,\n",
       "        0.1282   , 0.129    , 0.1299   , 0.1307   , 0.1316   , 0.1324   ,\n",
       "        0.1333   , 0.1342   , 0.135    , 0.1359   , 0.1367   , 0.1376   ,\n",
       "        0.1384   , 0.1393   , 0.1401   , 0.141    , 0.1418   , 0.1427   ,\n",
       "        0.1436   , 0.1444   , 0.1453   , 0.1461   , 0.147    , 0.1478   ,\n",
       "        0.1487   , 0.1495   , 0.1504   , 0.1512   , 0.1521   , 0.153    ,\n",
       "        0.1538   , 0.1547   , 0.1555   , 0.1564   , 0.1572   , 0.1581   ,\n",
       "        0.1589   , 0.1598   , 0.1606   , 0.1615   , 0.1624   , 0.1632   ,\n",
       "        0.1641   , 0.1649   , 0.1658   , 0.1666   , 0.1675   , 0.1683   ,\n",
       "        0.1692   , 0.17     , 0.1709   , 0.1718   , 0.1726   , 0.1735   ,\n",
       "        0.1743   , 0.1752   , 0.176    , 0.1769   , 0.1777   , 0.1786   ,\n",
       "        0.1794   , 0.1803   , 0.1812   , 0.182    , 0.1829   , 0.1837   ,\n",
       "        0.1846   , 0.1854   , 0.1863   , 0.1871   , 0.188    , 0.1888   ,\n",
       "        0.1897   , 0.1906   , 0.1914   , 0.1923   , 0.1931   , 0.194    ,\n",
       "        0.1948   , 0.1957   , 0.1965   , 0.1974   , 0.1982   , 0.1991   ,\n",
       "        0.2      , 0.2008   , 0.2017   , 0.2025   , 0.2034   , 0.2042   ,\n",
       "        0.2051   , 0.2059   , 0.2068   , 0.2076   , 0.2085   , 0.2094   ,\n",
       "        0.2102   , 0.211    , 0.2119   , 0.2128   , 0.2136   , 0.2145   ,\n",
       "        0.2153   , 0.2162   , 0.217    , 0.2179   , 0.2188   , 0.2196   ,\n",
       "        0.2205   , 0.2213   , 0.2222   , 0.223    , 0.2239   , 0.2247   ,\n",
       "        0.2256   , 0.2264   , 0.2273   , 0.2281   , 0.229    , 0.2299   ,\n",
       "        0.2307   , 0.2316   , 0.2324   , 0.2333   , 0.2341   , 0.235    ,\n",
       "        0.2358   , 0.2367   , 0.2375   , 0.2384   , 0.2393   , 0.2401   ,\n",
       "        0.241    , 0.2418   , 0.2427   , 0.2435   , 0.2444   , 0.2452   ,\n",
       "        0.2461   , 0.247    , 0.2478   , 0.2487   , 0.2495   , 0.2505   ,\n",
       "        0.2512   , 0.252    , 0.253    , 0.254    , 0.2546   , 0.2554   ,\n",
       "        0.2563   , 0.2573   , 0.258    , 0.2588   , 0.2598   , 0.2607   ,\n",
       "        0.2615   , 0.2622   , 0.2632   , 0.2642   , 0.265    , 0.2656   ,\n",
       "        0.2666   , 0.2676   , 0.2683   , 0.269    , 0.27     , 0.271    ,\n",
       "        0.2717   , 0.2725   , 0.2734   , 0.2744   , 0.2751   , 0.276    ,\n",
       "        0.2769   , 0.2778   , 0.2786   , 0.2793   , 0.2803   , 0.2812   ,\n",
       "        0.282    , 0.2827   , 0.2837   , 0.2847   , 0.2854   , 0.2861   ,\n",
       "        0.287    , 0.288    , 0.2888   , 0.2896   , 0.2905   , 0.2915   ,\n",
       "        0.2922   , 0.293    , 0.294    , 0.295    , 0.2957   , 0.2964   ,\n",
       "        0.2974   , 0.2983   , 0.299    , 0.2998   , 0.3008   , 0.3018   ,\n",
       "        0.3025   , 0.3032   , 0.3042   , 0.3052   , 0.306    , 0.3066   ,\n",
       "        0.3076   , 0.3086   , 0.3093   , 0.31     , 0.311    , 0.312    ,\n",
       "        0.3127   , 0.3135   , 0.3145   , 0.3154   , 0.3162   , 0.317    ,\n",
       "        0.3179   , 0.3188   , 0.3196   , 0.3203   , 0.3213   , 0.3223   ,\n",
       "        0.323    , 0.3237   , 0.3247   , 0.3257   , 0.3264   , 0.3271   ,\n",
       "        0.3281   , 0.329    , 0.3298   , 0.3306   , 0.3315   , 0.3325   ,\n",
       "        0.3333   , 0.334    , 0.335    , 0.336    , 0.3367   , 0.3374   ,\n",
       "        0.3384   , 0.3394   , 0.34     , 0.3408   , 0.3418   , 0.3428   ,\n",
       "        0.3435   , 0.3442   , 0.3452   , 0.3462   , 0.347    , 0.3477   ,\n",
       "        0.3486   , 0.3496   , 0.3503   , 0.351    , 0.352    , 0.353    ,\n",
       "        0.3538   , 0.3545   , 0.3555   , 0.3564   , 0.3572   , 0.358    ,\n",
       "        0.359    , 0.3599   , 0.3606   , 0.3613   , 0.3623   , 0.3633   ,\n",
       "        0.364    , 0.3647   , 0.3657   , 0.3667   , 0.3674   , 0.3682   ,\n",
       "        0.3691   , 0.37     , 0.3708   , 0.3716   , 0.3726   , 0.3735   ,\n",
       "        0.3743   , 0.375    , 0.376    , 0.377    , 0.3777   , 0.3784   ,\n",
       "        0.3794   , 0.3804   , 0.381    , 0.3818   , 0.3828   , 0.3838   ,\n",
       "        0.3845   , 0.3853   , 0.3862   , 0.3872   , 0.388    , 0.3887   ,\n",
       "        0.3896   , 0.3906   , 0.3914   , 0.392    , 0.393    , 0.394    ,\n",
       "        0.3948   , 0.3955   , 0.3965   , 0.3975   , 0.3982   , 0.399    ,\n",
       "        0.4      , 0.401    , 0.4016   , 0.4023   , 0.4033   , 0.4043   ,\n",
       "        0.405    , 0.4058   , 0.4067   , 0.4077   , 0.4084   , 0.4092   ,\n",
       "        0.4102   , 0.4111   , 0.4119   , 0.4126   , 0.4136   , 0.4146   ,\n",
       "        0.4153   , 0.416    , 0.417    , 0.418    , 0.4187   , 0.4194   ,\n",
       "        0.4204   , 0.4214   , 0.422    , 0.4229   , 0.4238   , 0.4248   ,\n",
       "        0.4255   , 0.4263   , 0.4272   ], dtype=float16),\n",
       " <BarContainer object of 500 artists>)"
      ]
     },
     "execution_count": 69,
     "metadata": {},
     "output_type": "execute_result"
    },
    {
     "data": {
      "image/png": "[encoded data removed]",
      "text/plain": [
       "<Figure size 640x480 with 1 Axes>"
      ]
     },
     "metadata": {},
     "output_type": "display_data"
    }
   ],
   "source": [
    "plt.hist(text_probs_numpy[np.where(text_probs_numpy.argmax(axis=1) != 3)[0],3], bins=500)\n",
    "#plt.ylim([0,500])"
   ]
  },
  {
   "cell_type": "code",
   "execution_count": 70,
   "metadata": {},
   "outputs": [
    {
     "data": {
      "text/plain": [
       "array([163., 235., 255., 296., 456., 153., 218., 311., 139., 212., 237.,\n",
       "       276., 140., 190., 179., 320., 156., 146., 469., 221., 294., 241.,\n",
       "       248., 256., 325., 136., 172., 199., 227., 278., 287., 211., 365.,\n",
       "       135., 338., 246., 340., 111., 316., 164., 192., 407., 119., 243.,\n",
       "       391., 159., 179., 281., 129., 169., 387., 318., 267., 205., 181.,\n",
       "       337., 258., 235., 173., 279., 708., 240., 233., 245., 342., 236.,\n",
       "       287., 418., 153., 384., 141., 142., 439., 322., 420., 313., 182.,\n",
       "       421., 324., 230., 336., 185., 151., 164., 200., 213., 174., 282.,\n",
       "       212., 226., 141., 276., 272., 183., 178., 358., 360., 191., 212.,\n",
       "       552.])"
      ]
     },
     "execution_count": 70,
     "metadata": {},
     "output_type": "execute_result"
    }
   ],
   "source": [
    "added"
   ]
  },
  {
   "cell_type": "code",
   "execution_count": 63,
   "metadata": {},
   "outputs": [
    {
     "data": {
      "text/plain": [
       "tensor([ 9.2812,  9.5547, 10.1641,  7.3984,  7.2734,  7.1094,  8.9766,  7.3164,\n",
       "        19.5938,  8.5703], device='cuda:4', dtype=torch.float16)"
      ]
     },
     "execution_count": 63,
     "metadata": {},
     "output_type": "execute_result"
    }
   ],
   "source": [
    "text_probs[0]"
   ]
  },
  {
   "cell_type": "code",
   "execution_count": null,
   "metadata": {},
   "outputs": [],
   "source": []
  }
 ],
 "metadata": {
  "kernelspec": {
   "display_name": "content_understanding",
   "language": "python",
   "name": "python3"
  },
  "language_info": {
   "codemirror_mode": {
    "name": "ipython",
    "version": 3
   },
   "file_extension": ".py",
   "mimetype": "text/x-python",
   "name": "python",
   "nbconvert_exporter": "python",
   "pygments_lexer": "ipython3",
   "version": "3.8.15"
  },
  "orig_nbformat": 4,
  "vscode": {
   "interpreter": {
    "hash": "6d36b139402f0f8909133622e5e80cdd43397350f551386f6df555aa508ab69d"
   }
  }
 },
 "nbformat": 4,
 "nbformat_minor": 2
}
